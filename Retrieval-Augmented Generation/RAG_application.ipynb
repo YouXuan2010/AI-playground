{
 "cells": [
  {
   "cell_type": "code",
   "execution_count": null,
   "id": "621a50e0",
   "metadata": {},
   "outputs": [],
   "source": [
    "!pip install langchain\n",
    "!pip install openai\n",
    "!pip install tiktoken\n",
    "!pip install faiss-gpu\n",
    "!pip install langchain_experimental\n",
    "!pip install \"langchain[docarray]\""
   ]
  },
  {
   "cell_type": "code",
   "execution_count": 100,
   "id": "56917dc6",
   "metadata": {},
   "outputs": [],
   "source": [
    "from langchain.chat_models import ChatOpenAI\n",
    "from langchain.text_splitter import CharacterTextSplitter\n",
    "from langchain.embeddings import OpenAIEmbeddings\n",
    "from langchain.vectorstores import FAISS\n",
    "from langchain.memory import ConversationBufferMemory\n",
    "from langchain.chains import ConversationalRetrievalChain\n",
    "from langchain.document_loaders.csv_loader import CSVLoader\n",
    "import tiktoken\n",
    "import pandas as pd"
   ]
  },
  {
   "cell_type": "code",
   "execution_count": null,
   "id": "78ea276e",
   "metadata": {},
   "outputs": [],
   "source": [
    "import os\n",
    "\n",
    "# Prompt the user for their OpenAI API key\n",
    "api_key = input(\"Please enter your OpenAI API key: \")\n",
    "\n",
    "# Set the API key as an environment variable\n",
    "os.environ[\"OPENAI_API_KEY\"] = api_key\n",
    "\n",
    "# Optionally, check that the environment variable was set correctly\n",
    "print(\"OPENAI_API_KEY has been set!\")\n"
   ]
  },
  {
   "cell_type": "code",
   "execution_count": 103,
   "id": "4013765c",
   "metadata": {},
   "outputs": [],
   "source": [
    "input_csv_path = './news.csv'\n",
    "df = pd.read_csv(input_csv_path)\n",
    "\n",
    "# Define a function to trim the text to at most 300 words\n",
    "def trim_text(text, max_words=300):\n",
    "    words = text.split()[:max_words]\n",
    "    return ' '.join(words)\n",
    "\n",
    "# Apply the trim_text function to the \"Body\" column in the DataFrame\n",
    "df['Body'] = df['Body'].apply(trim_text)\n",
    "\n",
    "# Replace 'output_file.csv' with the desired name for the new CSV file\n",
    "output_csv_path = 'output.csv'\n",
    "\n",
    "# Save the first half DataFrame to a new CSV file\n",
    "df.to_csv(output_csv_path, index=False)"
   ]
  },
  {
   "cell_type": "code",
   "execution_count": 112,
   "id": "63301a34",
   "metadata": {},
   "outputs": [],
   "source": [
    "# Specify the path to your CSV file\n",
    "csv_file_path = './output.csv'\n",
    "\n",
    "# Create an instance of the CSVLoader\n",
    "csv_loader = CSVLoader(file_path=csv_file_path, source_column=\"Link\", encoding=\"utf-8\", metadata_columns=[\"ID\", \"Title\", \"Description\", \"Keywords\", \"Theme\"])\n",
    "\n",
    "# Load the data from the CSV file\n",
    "data = csv_loader.load()\n",
    "\n",
    "# Create an instance of the CharacterTextSplitter class with specific parameters.\n",
    "# It splits text into chunks of 1000 characters each with a 200-character overlap.\n",
    "text_splitter = CharacterTextSplitter(chunk_size=1000, chunk_overlap=200)\n",
    "\n",
    "# Split the text into documents using the text splitter.\n",
    "data = text_splitter.split_documents(data)"
   ]
  },
  {
   "cell_type": "code",
   "execution_count": 113,
   "id": "401855f5",
   "metadata": {},
   "outputs": [],
   "source": [
    "# Create vector store\n",
    "embeddings = OpenAIEmbeddings()\n",
    "vectorstore = FAISS.from_documents(data, embedding=embeddings)"
   ]
  },
  {
   "cell_type": "code",
   "execution_count": 114,
   "id": "3bbe3b4e",
   "metadata": {},
   "outputs": [],
   "source": [
    "# Create conversation chain\n",
    "llm = ChatOpenAI(temperature=0.7, model_name=\"gpt-4\")\n",
    "memory = ConversationBufferMemory(memory_key='chat_history', return_messages=True)\n",
    "conversation_chain = ConversationalRetrievalChain.from_llm(\n",
    "        llm=llm,\n",
    "        chain_type=\"stuff\",\n",
    "        retriever=vectorstore.as_retriever(),\n",
    "        memory=memory\n",
    "        )"
   ]
  },
  {
   "cell_type": "code",
   "execution_count": 115,
   "id": "2d045419",
   "metadata": {},
   "outputs": [
    {
     "data": {
      "text/plain": [
       "'In 2023, an attack occurred at Morgan State University in Baltimore during a crowded homecoming event. There were two shooters involved in the incident, which injured five people, including four students. The victims, four men and one woman aged between 18 and 22, were taken to the hospital with non-life-threatening injuries. As of a few days after the incident, four of the five victims had been released from the hospital, while one remained in stable condition. The Baltimore Police Department released video and photos of four individuals seen near the scene of the shooting, asking the public for help in identifying them. The shooting is believed to have resulted from a dispute between two small groups. The police are continuing to investigate the incident.'"
      ]
     },
     "execution_count": 115,
     "metadata": {},
     "output_type": "execute_result"
    }
   ],
   "source": [
    "query = \"What happened at Morgan State University in 2023?\"\n",
    "result = conversation_chain({\"question\": query})\n",
    "answer = result[\"answer\"]\n",
    "answer"
   ]
  },
  {
   "cell_type": "code",
   "execution_count": 116,
   "id": "0ad8e2e4",
   "metadata": {
    "scrolled": true
   },
   "outputs": [
    {
     "data": {
      "text/plain": [
       "'Pat Fitzgerald is a former Northwestern University football coach. In 2023, he was involved in a series of events that started with accusations of hazing within the Wildcats football program. Northwestern University initially suspended him for two weeks without pay following an independent investigation into these allegations. However, despite Fitzgerald denying any knowledge of the hazing, the university decided to fire him shortly after his suspension. Fitzgerald is now suing Northwestern University and its president, Michael Schill, for at least $130 million, claiming wrongful termination among other charges. He asserts that he had an oral agreement with the university that he would not face further discipline after the suspension. The lawsuit also seeks damages for defamation and intentional infliction of emotional distress.'"
      ]
     },
     "execution_count": 116,
     "metadata": {},
     "output_type": "execute_result"
    }
   ],
   "source": [
    "query = \"Who is Pat Fitzgerald and what happened to him in 2023?\"\n",
    "result = conversation_chain({\"question\": query})\n",
    "answer = result[\"answer\"]\n",
    "answer"
   ]
  },
  {
   "cell_type": "code",
   "execution_count": 109,
   "id": "edfd7d8e",
   "metadata": {},
   "outputs": [
    {
     "data": {
      "text/plain": [
       "'Last year saw significant breakthroughs in Covid-19 vaccines. The US Food and Drug Administration gave approval to updated Covid-19 vaccines from Moderna and Pfizer/BioNTech that were effective against the then dominant strain in the United States, EG.5. These updated vaccines were set to become available in mid-September. Additionally, Katalin Karikó and Drew Weissman received the Nobel Prize in physiology or medicine for their work on mRNA vaccines, which have been a crucial tool in curtailing the spread of Covid-19. Their work laid the foundation for Pfizer/BioNTech and Moderna to use a new approach to produce vaccines using messenger RNA or mRNA. This revolutionary technology can potentially be harnessed to develop vaccines against other diseases like malaria, RSV, and HIV and offers a new approach to infectious disease like cancer, with the prospect of personalized vaccines.'"
      ]
     },
     "execution_count": 109,
     "metadata": {},
     "output_type": "execute_result"
    }
   ],
   "source": [
    "query = \"What are the Covid-19 vaccines breakthroughs last year?\"\n",
    "result = conversation_chain({\"question\": query})\n",
    "answer = result[\"answer\"]\n",
    "answer"
   ]
  },
  {
   "cell_type": "code",
   "execution_count": 110,
   "id": "10b74167",
   "metadata": {},
   "outputs": [
    {
     "data": {
      "text/plain": [
       "'In July 2023, the UK inflation rate eased to a 17-month low, with consumer prices rising 6.8% compared with a year ago. This is due to the falls in the price of gas and electricity after an energy price cap was lowered at the end of June. However, the prices of services, such as haircuts, hotels, and restaurants, increased at a faster pace than the previous month. For more details, refer to this article: [UK inflation eases to 17-month low](https://edition.cnn.com/2023/08/16/economy/uk-inflation-slowdown/index.html).'"
      ]
     },
     "execution_count": 110,
     "metadata": {},
     "output_type": "execute_result"
    }
   ],
   "source": [
    "query = \"What happened to UK inflation in July 2023? Please provide relevant link to the news.\"\n",
    "result = conversation_chain({\"question\": query})\n",
    "answer = result[\"answer\"]\n",
    "answer"
   ]
  },
  {
   "cell_type": "code",
   "execution_count": 117,
   "id": "b8001e85",
   "metadata": {},
   "outputs": [
    {
     "data": {
      "text/plain": [
       "'In 2023, the US labor market showed strong performance with the economy adding 253,000 jobs in April, which was more than economists expected. The unemployment rate fell to 3.4%, matching a 53-year low. The labor force participation rate held steady at 62.6%. Some of the largest job increases were seen in the sectors of private education and health services, professional and business services, and leisure and hospitality. Despite high prices, rising interest rates and banking uncertainty, the labor market continued to grow. For more details, you can refer to this article: [CNN Link](https://edition.cnn.com/2023/05/05/economy/april-jobs-report-takeaways/index.html).'"
      ]
     },
     "execution_count": 117,
     "metadata": {},
     "output_type": "execute_result"
    }
   ],
   "source": [
    "query = \"Please tell me about the US labor market in 2023 and provide the relevant link for me.\"\n",
    "result = conversation_chain({\"question\": query})\n",
    "answer = result[\"answer\"]\n",
    "answer"
   ]
  },
  {
   "cell_type": "code",
   "execution_count": null,
   "id": "2f0dd16b",
   "metadata": {},
   "outputs": [],
   "source": []
  }
 ],
 "metadata": {
  "kernelspec": {
   "display_name": "Python 3 (ipykernel)",
   "language": "python",
   "name": "python3"
  },
  "language_info": {
   "codemirror_mode": {
    "name": "ipython",
    "version": 3
   },
   "file_extension": ".py",
   "mimetype": "text/x-python",
   "name": "python",
   "nbconvert_exporter": "python",
   "pygments_lexer": "ipython3",
   "version": "3.11.4"
  }
 },
 "nbformat": 4,
 "nbformat_minor": 5
}
